{
  "nbformat": 4,
  "nbformat_minor": 0,
  "metadata": {
    "colab": {
      "name": "Control Structure.ipynb",
      "provenance": [],
      "authorship_tag": "ABX9TyPcH/dQPrIAJ74RUTSWuRE4",
      "include_colab_link": true
    },
    "kernelspec": {
      "name": "python3",
      "display_name": "Python 3"
    },
    "language_info": {
      "name": "python"
    }
  },
  "cells": [
    {
      "cell_type": "markdown",
      "metadata": {
        "id": "view-in-github",
        "colab_type": "text"
      },
      "source": [
        "<a href=\"https://colab.research.google.com/github/mazette04/CPEN-21A-ECE-2-2/blob/main/Control_Structure.ipynb\" target=\"_parent\"><img src=\"https://colab.research.google.com/assets/colab-badge.svg\" alt=\"Open In Colab\"/></a>"
      ]
    },
    {
      "cell_type": "markdown",
      "metadata": {
        "id": "UFd6U0bexTNH"
      },
      "source": [
        "##If Statement"
      ]
    },
    {
      "cell_type": "code",
      "metadata": {
        "colab": {
          "base_uri": "https://localhost:8080/"
        },
        "id": "zn3V_slnxgEO",
        "outputId": "0b5cdcc6-d62b-47dd-c5ea-21b267cb8cac"
      },
      "source": [
        "a = 12\n",
        "b = 100\n",
        "if b>a:\n",
        "  print(\"b is greater than a\")\n"
      ],
      "execution_count": 1,
      "outputs": [
        {
          "output_type": "stream",
          "name": "stdout",
          "text": [
            "b is greater than a\n"
          ]
        }
      ]
    },
    {
      "cell_type": "markdown",
      "metadata": {
        "id": "F03fNn4GyfTC"
      },
      "source": [
        "##Elif Statement"
      ]
    },
    {
      "cell_type": "code",
      "metadata": {
        "colab": {
          "base_uri": "https://localhost:8080/"
        },
        "id": "FclAV61nyjQ4",
        "outputId": "13934f68-e268-415f-bcaa-6ce2a1682e20"
      },
      "source": [
        "a = 12\n",
        "b = 100\n",
        "if b<a:\n",
        "  print(\"b is less than a\")\n",
        "elif b>a:\n",
        "  print(\"b is greater than a\")\n"
      ],
      "execution_count": 2,
      "outputs": [
        {
          "output_type": "stream",
          "name": "stdout",
          "text": [
            "b is greater than a\n"
          ]
        }
      ]
    },
    {
      "cell_type": "markdown",
      "metadata": {
        "id": "06SzzMQ2zAfX"
      },
      "source": [
        "##Else Statement"
      ]
    },
    {
      "cell_type": "code",
      "metadata": {
        "colab": {
          "base_uri": "https://localhost:8080/"
        },
        "id": "ja8-tfUBzC0A",
        "outputId": "c957f1a4-eb27-43bf-e3cf-59085e6b5ca7"
      },
      "source": [
        "a = 12\n",
        "b = 12\n",
        "if b<a:\n",
        "  print(\"b is less than a\")\n",
        "elif b>a:\n",
        "  print(\"b is greater than a\")\n",
        "else:\n",
        "  print(\"a is equal to b\")"
      ],
      "execution_count": 3,
      "outputs": [
        {
          "output_type": "stream",
          "name": "stdout",
          "text": [
            "a is equal to b\n"
          ]
        }
      ]
    },
    {
      "cell_type": "markdown",
      "metadata": {
        "id": "i1IUQWQXzuXu"
      },
      "source": [
        "##Short Hand If...Else"
      ]
    },
    {
      "cell_type": "code",
      "metadata": {
        "colab": {
          "base_uri": "https://localhost:8080/"
        },
        "id": "IqxQ170bzyDm",
        "outputId": "7a3b1cd2-f296-46a9-ac73-37ebe54ff99f"
      },
      "source": [
        "a = 420\n",
        "b = 330\n",
        "print(\"A\") if a > b else print(\"B\")"
      ],
      "execution_count": 6,
      "outputs": [
        {
          "output_type": "stream",
          "name": "stdout",
          "text": [
            "A\n"
          ]
        }
      ]
    },
    {
      "cell_type": "markdown",
      "metadata": {
        "id": "jNxcl1Vc1Ix6"
      },
      "source": [
        "And Condition"
      ]
    },
    {
      "cell_type": "code",
      "metadata": {
        "colab": {
          "base_uri": "https://localhost:8080/"
        },
        "id": "CTFelvzm1LCA",
        "outputId": "d313e879-8de6-4c73-83af-a5530fa24779"
      },
      "source": [
        "a = 200\n",
        "b = 33\n",
        "c = 500\n",
        "\n",
        "if a>b and a<c:\n",
        "  print(\"The conditions need to be True\")"
      ],
      "execution_count": 8,
      "outputs": [
        {
          "output_type": "stream",
          "name": "stdout",
          "text": [
            "The conditions need to be True\n"
          ]
        }
      ]
    },
    {
      "cell_type": "markdown",
      "metadata": {
        "id": "-EcC2DEF2DXW"
      },
      "source": [
        "Or Condition"
      ]
    },
    {
      "cell_type": "code",
      "metadata": {
        "colab": {
          "base_uri": "https://localhost:8080/"
        },
        "id": "Buio3CaR2Fle",
        "outputId": "1dfa33db-28bd-496b-ae28-1561b4233ff6"
      },
      "source": [
        "a = 200\n",
        "b = 33\n",
        "c = 500\n",
        "\n",
        "if a>b or a<b:\n",
        "  print(\"One of the conditions is True\")"
      ],
      "execution_count": 11,
      "outputs": [
        {
          "output_type": "stream",
          "name": "stdout",
          "text": [
            "One of the conditions is True\n"
          ]
        }
      ]
    },
    {
      "cell_type": "markdown",
      "metadata": {
        "id": "z1TWiwZy3itr"
      },
      "source": [
        "Nested If"
      ]
    },
    {
      "cell_type": "code",
      "metadata": {
        "colab": {
          "base_uri": "https://localhost:8080/"
        },
        "id": "qMYzzTmr3lMI",
        "outputId": "ace3e145-8d92-4c9e-9d23-8f9d69bcafaa"
      },
      "source": [
        "a = 41\n",
        "\n",
        "if a>10:\n",
        "  print(\"Above 10\")\n",
        "  if a>20:\n",
        "    print(\"Above 20\")\n",
        "  else:\n",
        "    print(\"not above 20\")\n",
        "    "
      ],
      "execution_count": 12,
      "outputs": [
        {
          "output_type": "stream",
          "name": "stdout",
          "text": [
            "Above 10\n",
            "Above 20\n"
          ]
        }
      ]
    },
    {
      "cell_type": "markdown",
      "metadata": {
        "id": "dwX9gexK4GKY"
      },
      "source": [
        "Nested If... Else"
      ]
    },
    {
      "cell_type": "code",
      "metadata": {
        "colab": {
          "base_uri": "https://localhost:8080/"
        },
        "id": "Q6nT3IUo4MC_",
        "outputId": "5de1adce-bfb8-4c29-bd37-955a93f35a09"
      },
      "source": [
        "a = 4\n",
        "\n",
        "if a>10:\n",
        "  print(\"Above 10\")\n",
        "  if a>20:\n",
        "    print(\"Above 20\")\n",
        "  else:\n",
        "    print(\"not above 20\")\n",
        "else:\n",
        "  print(\"Below 10\")"
      ],
      "execution_count": 15,
      "outputs": [
        {
          "output_type": "stream",
          "name": "stdout",
          "text": [
            "Below 10\n"
          ]
        }
      ]
    },
    {
      "cell_type": "markdown",
      "metadata": {
        "id": "XZA-AjMj5N4q"
      },
      "source": [
        "##Example 1\n"
      ]
    },
    {
      "cell_type": "code",
      "metadata": {
        "colab": {
          "base_uri": "https://localhost:8080/"
        },
        "id": "3E4su0wN6dv1",
        "outputId": "b18d3ba4-98ca-488f-8c0e-09044f36ed97"
      },
      "source": [
        "# The qualifying age to vote\n",
        "\n",
        "age = int(input(\"Please enter your age:\"))\n",
        "\n",
        "if age>=18:\n",
        "  print(\"You are qualified to vote\")\n",
        "else:\n",
        "  print(\"You are not qualified to vote\")"
      ],
      "execution_count": 22,
      "outputs": [
        {
          "output_type": "stream",
          "name": "stdout",
          "text": [
            "Please enter your age:15\n",
            "You are not qualified to vote\n"
          ]
        }
      ]
    },
    {
      "cell_type": "markdown",
      "metadata": {
        "id": "m-UEsgKo7rcB"
      },
      "source": [
        "##Example 2\n"
      ]
    },
    {
      "cell_type": "code",
      "metadata": {
        "colab": {
          "base_uri": "https://localhost:8080/"
        },
        "id": "00YfB0nP8cuv",
        "outputId": "2ebe9be4-cbee-4477-a1f5-5d89a1c146de"
      },
      "source": [
        "number = int(input(\"Enter a number:\"))\n",
        "if number>0:\n",
        "  print(\"You entered a positive number\")\n",
        "elif number ==0:\n",
        "  print(\"You entered zero 0\")\n",
        "else:\n",
        "  print(\"You entered a negative number\")"
      ],
      "execution_count": 20,
      "outputs": [
        {
          "output_type": "stream",
          "name": "stdout",
          "text": [
            "Enter a number:-4\n",
            "You entered a negative number\n"
          ]
        }
      ]
    }
  ]
}