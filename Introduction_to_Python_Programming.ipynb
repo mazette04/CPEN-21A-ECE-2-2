{
  "nbformat": 4,
  "nbformat_minor": 0,
  "metadata": {
    "colab": {
      "name": "Introduction to Python Programming",
      "provenance": [],
      "authorship_tag": "ABX9TyNvHFqJhggKYQhhv78k+Mfg",
      "include_colab_link": true
    },
    "kernelspec": {
      "name": "python3",
      "display_name": "Python 3"
    },
    "language_info": {
      "name": "python"
    }
  },
  "cells": [
    {
      "cell_type": "markdown",
      "metadata": {
        "id": "view-in-github",
        "colab_type": "text"
      },
      "source": [
        "<a href=\"https://colab.research.google.com/github/mazette04/CPEN-21A-ECE-2-2/blob/main/Introduction_to_Python_Programming.ipynb\" target=\"_parent\"><img src=\"https://colab.research.google.com/assets/colab-badge.svg\" alt=\"Open In Colab\"/></a>"
      ]
    },
    {
      "cell_type": "markdown",
      "metadata": {
        "id": "iirXThBoiNSk"
      },
      "source": [
        "##Review of Python"
      ]
    },
    {
      "cell_type": "code",
      "metadata": {
        "colab": {
          "base_uri": "https://localhost:8080/"
        },
        "id": "5Ks2XJEAie1T",
        "outputId": "ce7cb491-671a-4f78-be96-80e7d5d4ae8d"
      },
      "source": [
        "print(\"Welcome to Python Programming\")"
      ],
      "execution_count": 2,
      "outputs": [
        {
          "output_type": "stream",
          "name": "stdout",
          "text": [
            "Welcome to Python Programming\n"
          ]
        }
      ]
    },
    {
      "cell_type": "code",
      "metadata": {
        "colab": {
          "base_uri": "https://localhost:8080/"
        },
        "id": "hLgmLVfhkzGg",
        "outputId": "decf6796-cd3f-44bb-a210-5b2422c68835"
      },
      "source": [
        "b = 'Sally'\n",
        "print(b)"
      ],
      "execution_count": 3,
      "outputs": [
        {
          "output_type": "stream",
          "name": "stdout",
          "text": [
            "Sally\n"
          ]
        }
      ]
    },
    {
      "cell_type": "code",
      "metadata": {
        "colab": {
          "base_uri": "https://localhost:8080/"
        },
        "id": "WwdfxVUclJbO",
        "outputId": "54ba24d0-abf3-45b6-a2ef-563f4d5a4e2a"
      },
      "source": [
        "b = int(4)\n",
        "print(b)"
      ],
      "execution_count": 6,
      "outputs": [
        {
          "output_type": "stream",
          "name": "stdout",
          "text": [
            "4\n"
          ]
        }
      ]
    },
    {
      "cell_type": "code",
      "metadata": {
        "colab": {
          "base_uri": "https://localhost:8080/"
        },
        "id": "j5pJSkp8lSel",
        "outputId": "8c076688-c20c-4521-94b2-d6f1495fc275"
      },
      "source": [
        "b = float(4)\n",
        "print(round((b),3))"
      ],
      "execution_count": 10,
      "outputs": [
        {
          "output_type": "stream",
          "name": "stdout",
          "text": [
            "4.0\n"
          ]
        }
      ]
    },
    {
      "cell_type": "code",
      "metadata": {
        "colab": {
          "base_uri": "https://localhost:8080/"
        },
        "id": "ck0u7z7Kl23d",
        "outputId": "aacae20e-c24d-40d8-d9e6-da9f3ca9154b"
      },
      "source": [
        "x = 5\n",
        "y = \"John\"\n",
        "print(type(x))\n",
        "print(type(y))"
      ],
      "execution_count": 12,
      "outputs": [
        {
          "output_type": "stream",
          "name": "stdout",
          "text": [
            "<class 'int'>\n",
            "<class 'str'>\n"
          ]
        }
      ]
    },
    {
      "cell_type": "code",
      "metadata": {
        "colab": {
          "base_uri": "https://localhost:8080/"
        },
        "id": "rU0OEJKEmYBL",
        "outputId": "62ca712a-5482-46eb-e807-ce0de19355f1"
      },
      "source": [
        "a = 4\n",
        "A = \"Sally\"\n",
        "#A will not overwrite a\n",
        "print(a)\n",
        "print(A)"
      ],
      "execution_count": 14,
      "outputs": [
        {
          "output_type": "stream",
          "name": "stdout",
          "text": [
            "4\n",
            "Sally\n"
          ]
        }
      ]
    },
    {
      "cell_type": "code",
      "metadata": {
        "colab": {
          "base_uri": "https://localhost:8080/"
        },
        "id": "G49v_dxkmwuJ",
        "outputId": "206e24c2-e64c-4ac5-f863-e77cc81ef429"
      },
      "source": [
        "x,y,z = \"One\", \"Two\", \"Three\"\n",
        "print(x)\n",
        "print(y)\n",
        "print(z)"
      ],
      "execution_count": 15,
      "outputs": [
        {
          "output_type": "stream",
          "name": "stdout",
          "text": [
            "One\n",
            "Two\n",
            "Three\n"
          ]
        }
      ]
    },
    {
      "cell_type": "code",
      "metadata": {
        "colab": {
          "base_uri": "https://localhost:8080/"
        },
        "id": "HnY6BMwGnEZn",
        "outputId": "8c392043-5ef3-4882-c8ca-fe08ca426eb5"
      },
      "source": [
        "x = y = z = \"Four\"\n",
        "print (x)\n",
        "print (y)\n",
        "print (z)"
      ],
      "execution_count": 17,
      "outputs": [
        {
          "output_type": "stream",
          "name": "stdout",
          "text": [
            "Four\n",
            "Four\n",
            "Four\n"
          ]
        }
      ]
    },
    {
      "cell_type": "code",
      "metadata": {
        "colab": {
          "base_uri": "https://localhost:8080/"
        },
        "id": "62HZ1PEnnkHP",
        "outputId": "52765872-4a4b-410b-ad6e-2328a3c8d498"
      },
      "source": [
        "x = 'enjoying'\n",
        "print(\"Python programming is  \"+ x )"
      ],
      "execution_count": 22,
      "outputs": [
        {
          "output_type": "stream",
          "name": "stdout",
          "text": [
            "Python programming is  enjoying\n"
          ]
        }
      ]
    },
    {
      "cell_type": "code",
      "metadata": {
        "colab": {
          "base_uri": "https://localhost:8080/"
        },
        "id": "-Tn_BHmxog6s",
        "outputId": "40bfa7db-fe16-4e56-ead7-c4fd205c17bc"
      },
      "source": [
        "x = \"Python programming is\"\n",
        "y = 'enjoying'\n",
        "\n",
        "print(x+y)"
      ],
      "execution_count": 23,
      "outputs": [
        {
          "output_type": "stream",
          "name": "stdout",
          "text": [
            "Python programming isenjoying\n"
          ]
        }
      ]
    },
    {
      "cell_type": "code",
      "metadata": {
        "colab": {
          "base_uri": "https://localhost:8080/"
        },
        "id": "8Kjjv2G1o6xq",
        "outputId": "e20e3b83-df54-4541-f363-87c6f8dd9968"
      },
      "source": [
        "x = 5\n",
        "y = 3\n",
        "sum = x + y\n",
        "print(sum)"
      ],
      "execution_count": 24,
      "outputs": [
        {
          "output_type": "stream",
          "name": "stdout",
          "text": [
            "8\n"
          ]
        }
      ]
    },
    {
      "cell_type": "code",
      "metadata": {
        "colab": {
          "base_uri": "https://localhost:8080/"
        },
        "id": "liVk4hqSpdWP",
        "outputId": "f00aef79-670f-46e8-fe19-092c09b13bf9"
      },
      "source": [
        "a, b , c = 0,-1,8\n",
        "c%=3\n",
        "print(c)"
      ],
      "execution_count": 26,
      "outputs": [
        {
          "output_type": "stream",
          "name": "stdout",
          "text": [
            "2\n"
          ]
        }
      ]
    },
    {
      "cell_type": "code",
      "metadata": {
        "colab": {
          "base_uri": "https://localhost:8080/"
        },
        "id": "Rdt7lyjnqExN",
        "outputId": "dc1a342c-2535-40bf-9c15-fb9b872c410f"
      },
      "source": [
        "x = 5\n",
        "x<6 and x < 10"
      ],
      "execution_count": 28,
      "outputs": [
        {
          "output_type": "execute_result",
          "data": {
            "text/plain": [
              "True"
            ]
          },
          "metadata": {},
          "execution_count": 28
        }
      ]
    },
    {
      "cell_type": "code",
      "metadata": {
        "colab": {
          "base_uri": "https://localhost:8080/"
        },
        "id": "SNnVmc36qej8",
        "outputId": "b61fbb0f-ed4e-4719-bc3d-001212a14d1b"
      },
      "source": [
        "y = 6\n",
        "z = 7\n",
        "y is not z"
      ],
      "execution_count": 36,
      "outputs": [
        {
          "output_type": "execute_result",
          "data": {
            "text/plain": [
              "True"
            ]
          },
          "metadata": {},
          "execution_count": 36
        }
      ]
    }
  ]
}