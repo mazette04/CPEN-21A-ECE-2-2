{
  "nbformat": 4,
  "nbformat_minor": 0,
  "metadata": {
    "colab": {
      "name": "Operations and Expressions in Python",
      "provenance": [],
      "authorship_tag": "ABX9TyMWyTZ9rx5dQWHXAg0AyFfQ",
      "include_colab_link": true
    },
    "kernelspec": {
      "name": "python3",
      "display_name": "Python 3"
    },
    "language_info": {
      "name": "python"
    }
  },
  "cells": [
    {
      "cell_type": "markdown",
      "metadata": {
        "id": "view-in-github",
        "colab_type": "text"
      },
      "source": [
        "<a href=\"https://colab.research.google.com/github/mazette04/CPEN-21A-ECE-2-2/blob/main/Operations_and_Expressions_in_Python.ipynb\" target=\"_parent\"><img src=\"https://colab.research.google.com/assets/colab-badge.svg\" alt=\"Open In Colab\"/></a>"
      ]
    },
    {
      "cell_type": "markdown",
      "metadata": {
        "id": "CuQriPAxshL7"
      },
      "source": [
        "##Boolean Operators"
      ]
    },
    {
      "cell_type": "code",
      "metadata": {
        "colab": {
          "base_uri": "https://localhost:8080/"
        },
        "id": "i7GC5BoIsUmK",
        "outputId": "478f5d9d-f715-4139-bd9f-ed6fdd2a3537"
      },
      "source": [
        "a = 10\n",
        "b = 9\n",
        "c = 8\n",
        "\n",
        "c = print(a>b)\n",
        "\n",
        "c"
      ],
      "execution_count": 8,
      "outputs": [
        {
          "output_type": "stream",
          "name": "stdout",
          "text": [
            "True\n"
          ]
        }
      ]
    },
    {
      "cell_type": "code",
      "metadata": {
        "colab": {
          "base_uri": "https://localhost:8080/"
        },
        "id": "A8L5f_5uuCOG",
        "outputId": "268a49ef-a90a-4233-8dca-6a1a48855696"
      },
      "source": [
        "print(bool(\"Hello\"))\n",
        "print(bool(15))\n",
        "print(bool(True))\n",
        "print(bool(False))\n",
        "print(bool(1))\n",
        "print(bool(0))\n",
        "print(bool(None))\n",
        "print(bool([]))"
      ],
      "execution_count": 17,
      "outputs": [
        {
          "output_type": "stream",
          "name": "stdout",
          "text": [
            "True\n",
            "True\n",
            "True\n",
            "False\n",
            "True\n",
            "False\n",
            "False\n",
            "False\n"
          ]
        }
      ]
    },
    {
      "cell_type": "code",
      "metadata": {
        "colab": {
          "base_uri": "https://localhost:8080/"
        },
        "id": "_VU1thIku_VE",
        "outputId": "889c836e-ea43-4566-e614-2adbc5bb43ab"
      },
      "source": [
        "def myFunction(): return True\n",
        "print(myFunction())"
      ],
      "execution_count": 18,
      "outputs": [
        {
          "output_type": "stream",
          "name": "stdout",
          "text": [
            "True\n"
          ]
        }
      ]
    },
    {
      "cell_type": "code",
      "metadata": {
        "colab": {
          "base_uri": "https://localhost:8080/"
        },
        "id": "nicJKB5CvYfC",
        "outputId": "68d52bff-99da-4f30-9f96-2c9af43fbd0c"
      },
      "source": [
        "def myFunction(): return True\n",
        "\n",
        "if myFunction():\n",
        "  print(\"True\")\n",
        "else:\n",
        "  print(\"False\")\n"
      ],
      "execution_count": 21,
      "outputs": [
        {
          "output_type": "stream",
          "name": "stdout",
          "text": [
            "True\n"
          ]
        }
      ]
    },
    {
      "cell_type": "code",
      "metadata": {
        "colab": {
          "base_uri": "https://localhost:8080/"
        },
        "id": "dRuDwPbXwL7x",
        "outputId": "400914c5-6d49-48ab-a848-b40b3f93f4fe"
      },
      "source": [
        "print(10>9)\n",
        "\n",
        "a = 6  # 0000 0110\n",
        "b = 7 #  0000 0111\n",
        "print(a==b)\n",
        "print(6==6)\n",
        "print(a!=a)"
      ],
      "execution_count": 35,
      "outputs": [
        {
          "output_type": "stream",
          "name": "stdout",
          "text": [
            "True\n",
            "False\n",
            "True\n",
            "False\n"
          ]
        }
      ]
    },
    {
      "cell_type": "markdown",
      "metadata": {
        "id": "fjoaPkpdw5M2"
      },
      "source": [
        "##Python Operators"
      ]
    },
    {
      "cell_type": "code",
      "metadata": {
        "colab": {
          "base_uri": "https://localhost:8080/"
        },
        "id": "phAGUxKmw83G",
        "outputId": "1a720eeb-4c91-41fc-f5b7-306b9f75f066"
      },
      "source": [
        "print(10+5)\n",
        "print(10-5)\n",
        "print(10*5)\n",
        "print(10/5)\n",
        "print(10%5)\n",
        "print(10//3)\n",
        "print(10**2)\n"
      ],
      "execution_count": 34,
      "outputs": [
        {
          "output_type": "stream",
          "name": "stdout",
          "text": [
            "15\n",
            "5\n",
            "50\n",
            "2.0\n",
            "0\n",
            "3\n",
            "100\n"
          ]
        }
      ]
    },
    {
      "cell_type": "markdown",
      "metadata": {
        "id": "jDixOIaYybzI"
      },
      "source": [
        "##Bitwise Operators"
      ]
    },
    {
      "cell_type": "code",
      "metadata": {
        "colab": {
          "base_uri": "https://localhost:8080/"
        },
        "id": "H8YVzlHyye1R",
        "outputId": "c2cbe04d-7d41-4689-cbb9-f273cfd74e74"
      },
      "source": [
        "a = 60  #0011 1100\n",
        "b = 13\n",
        "\n",
        "print(a^b)\n",
        "print(~a)\n",
        "print(a<<2)\n",
        "print(a>>2) # 0000 1111"
      ],
      "execution_count": 39,
      "outputs": [
        {
          "output_type": "stream",
          "name": "stdout",
          "text": [
            "49\n",
            "-61\n",
            "240\n",
            "15\n"
          ]
        }
      ]
    },
    {
      "cell_type": "markdown",
      "metadata": {
        "id": "D0FJGWjI0zgi"
      },
      "source": [
        "##Assignment Operators"
      ]
    },
    {
      "cell_type": "code",
      "metadata": {
        "colab": {
          "base_uri": "https://localhost:8080/"
        },
        "id": "jiOO9wNY03GC",
        "outputId": "53a84e5e-0b1f-4fff-a9a2-1dfbc0b898e5"
      },
      "source": [
        "x = 2\n",
        "x +=3 #Same As x = x + 3\n",
        "print(x)\n",
        "\n",
        "x"
      ],
      "execution_count": 44,
      "outputs": [
        {
          "output_type": "stream",
          "name": "stdout",
          "text": [
            "5\n"
          ]
        },
        {
          "output_type": "execute_result",
          "data": {
            "text/plain": [
              "5"
            ]
          },
          "metadata": {},
          "execution_count": 44
        }
      ]
    },
    {
      "cell_type": "markdown",
      "metadata": {
        "id": "Q1tDznua2Xb3"
      },
      "source": [
        "##Logical Operators\n"
      ]
    },
    {
      "cell_type": "code",
      "metadata": {
        "colab": {
          "base_uri": "https://localhost:8080/"
        },
        "id": "PALRR9GW2mCW",
        "outputId": "60fb7de7-c7c6-44ec-c3b7-f933dcc353aa"
      },
      "source": [
        "a = 5\n",
        "b = 6\n",
        "\n",
        "print(a>b and a==a)\n",
        "print(a<b or b==a)"
      ],
      "execution_count": 51,
      "outputs": [
        {
          "output_type": "stream",
          "name": "stdout",
          "text": [
            "False\n",
            "True\n"
          ]
        }
      ]
    },
    {
      "cell_type": "markdown",
      "metadata": {
        "id": "55POgv7e4E3A"
      },
      "source": [
        "##Identity Operator"
      ]
    },
    {
      "cell_type": "code",
      "metadata": {
        "colab": {
          "base_uri": "https://localhost:8080/"
        },
        "id": "8Ls_f7OG4IOJ",
        "outputId": "4e7c4d29-52c8-47ae-d328-f9732972daa7"
      },
      "source": [
        "print(a is b)\n",
        "print(a is not b)"
      ],
      "execution_count": 54,
      "outputs": [
        {
          "output_type": "stream",
          "name": "stdout",
          "text": [
            "False\n",
            "True\n"
          ]
        }
      ]
    }
  ]
}